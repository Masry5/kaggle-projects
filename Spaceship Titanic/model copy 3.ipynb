{
 "cells": [
  {
   "cell_type": "code",
   "execution_count": 1,
   "metadata": {},
   "outputs": [],
   "source": [
    "import numpy as np\n",
    "import pandas as pd\n",
    "from sklearn.model_selection import train_test_split\n",
    "from sklearn.preprocessing import PolynomialFeatures,StandardScaler,LabelEncoder,OneHotEncoder\n",
    "from sklearn.metrics import mean_squared_error,r2_score\n",
    "from sklearn.linear_model import LogisticRegression\n",
    "import matplotlib.pyplot as plt\n",
    "import os\n",
    "from sklearn.impute import SimpleImputer\n",
    "from xgboost import XGBClassifier"
   ]
  },
  {
   "cell_type": "code",
   "execution_count": 2,
   "metadata": {},
   "outputs": [],
   "source": [
    "df=pd.read_csv('train.csv')\n",
    "x_test=pd.read_csv('test.csv')\n",
    "ids=x_test['PassengerId']"
   ]
  },
  {
   "cell_type": "code",
   "execution_count": 3,
   "metadata": {},
   "outputs": [
    {
     "name": "stdout",
     "output_type": "stream",
     "text": [
      "<class 'pandas.core.frame.DataFrame'>\n",
      "RangeIndex: 8693 entries, 0 to 8692\n",
      "Data columns (total 14 columns):\n",
      " #   Column        Non-Null Count  Dtype  \n",
      "---  ------        --------------  -----  \n",
      " 0   PassengerId   8693 non-null   object \n",
      " 1   HomePlanet    8492 non-null   object \n",
      " 2   CryoSleep     8476 non-null   object \n",
      " 3   Cabin         8494 non-null   object \n",
      " 4   Destination   8511 non-null   object \n",
      " 5   Age           8514 non-null   float64\n",
      " 6   VIP           8490 non-null   object \n",
      " 7   RoomService   8512 non-null   float64\n",
      " 8   FoodCourt     8510 non-null   float64\n",
      " 9   ShoppingMall  8485 non-null   float64\n",
      " 10  Spa           8510 non-null   float64\n",
      " 11  VRDeck        8505 non-null   float64\n",
      " 12  Name          8493 non-null   object \n",
      " 13  Transported   8693 non-null   bool   \n",
      "dtypes: bool(1), float64(6), object(7)\n",
      "memory usage: 891.5+ KB\n"
     ]
    }
   ],
   "source": [
    "df.info()"
   ]
  },
  {
   "cell_type": "code",
   "execution_count": 4,
   "metadata": {},
   "outputs": [],
   "source": [
    "numirecal_data=df.select_dtypes(exclude=['bool','object']).columns.to_list()\n",
    "\n",
    "imuter = SimpleImputer(strategy='mean')\n",
    "num_without_nulls = pd.DataFrame(imuter.fit_transform(df[numirecal_data]),columns=numirecal_data)\n",
    "test_num_without_nulls = pd.DataFrame(imuter.transform(df[numirecal_data]),columns=numirecal_data)\n",
    "\n",
    "df[numirecal_data] = num_without_nulls\n",
    "x_test[numirecal_data] = test_num_without_nulls"
   ]
  },
  {
   "cell_type": "code",
   "execution_count": 5,
   "metadata": {},
   "outputs": [],
   "source": [
    "catagorical_data=df.select_dtypes(include=['object']).columns.to_list()\n",
    "\n",
    "imuter = SimpleImputer(strategy='most_frequent')\n",
    "catagorical_without_null = pd.DataFrame(imuter.fit_transform(df[catagorical_data]),columns=catagorical_data)\n",
    "df[catagorical_data] = catagorical_without_null"
   ]
  },
  {
   "cell_type": "code",
   "execution_count": 6,
   "metadata": {},
   "outputs": [],
   "source": [
    "catagorical_data=x_test.select_dtypes(include=['object']).columns.to_list()\n",
    "\n",
    "imuter = SimpleImputer(strategy='most_frequent')\n",
    "catagorical_without_null = pd.DataFrame(imuter.fit_transform(df[catagorical_data]),columns=catagorical_data)\n",
    "x_test[catagorical_data] = catagorical_without_null"
   ]
  },
  {
   "cell_type": "code",
   "execution_count": 7,
   "metadata": {},
   "outputs": [
    {
     "data": {
      "text/plain": [
       "PassengerId     0\n",
       "HomePlanet      0\n",
       "CryoSleep       0\n",
       "Cabin           0\n",
       "Destination     0\n",
       "Age             0\n",
       "VIP             0\n",
       "RoomService     0\n",
       "FoodCourt       0\n",
       "ShoppingMall    0\n",
       "Spa             0\n",
       "VRDeck          0\n",
       "Name            0\n",
       "Transported     0\n",
       "dtype: int64"
      ]
     },
     "execution_count": 7,
     "metadata": {},
     "output_type": "execute_result"
    }
   ],
   "source": [
    "df.isna().sum()"
   ]
  },
  {
   "cell_type": "code",
   "execution_count": null,
   "metadata": {},
   "outputs": [],
   "source": []
  },
  {
   "cell_type": "code",
   "execution_count": 8,
   "metadata": {},
   "outputs": [],
   "source": [
    "#split Cabin\n",
    "df['Cabin']=df['Cabin'].str.split('/')\n",
    "df['Cabin_deck'] = df['PassengerId'].str.get(0).astype(int)\n",
    "df['Cabin_num']=df['PassengerId'].str.get(1).astype(int)\n",
    "df['Cabin_side']=df['PassengerId'].str.get(2).astype(int)\n",
    "\n",
    "#split cabin test\n",
    "x_test['Cabin']=x_test['Cabin'].str.split('/')\n",
    "x_test['Cabin_deck'] = x_test['PassengerId'].str.get(0).astype(int)\n",
    "x_test['Cabin_num']=x_test['PassengerId'].str.get(1).astype(int)\n",
    "x_test['Cabin_side']=x_test['PassengerId'].str.get(2).astype(int)"
   ]
  },
  {
   "cell_type": "code",
   "execution_count": 9,
   "metadata": {},
   "outputs": [],
   "source": [
    "#split id\n",
    "df['PassengerId']=df['PassengerId'].str.split('_')\n",
    "df['group'] = df['PassengerId'].str.get(0).astype(int)\n",
    "df['passenger_num']=df['PassengerId'].str.get(1).astype(int)\n",
    "\n",
    "#split id test\n",
    "x_test['PassengerId']=x_test['PassengerId'].str.split('_')\n",
    "x_test['group'] = x_test['PassengerId'].str.get(0).astype(int)\n",
    "x_test['passenger_num']=x_test['PassengerId'].str.get(1).astype(int)"
   ]
  },
  {
   "cell_type": "code",
   "execution_count": 10,
   "metadata": {},
   "outputs": [],
   "source": [
    "numirecal_data=df.select_dtypes(exclude=['bool','object']).columns.to_list()\n",
    "st_scaler=StandardScaler()\n",
    "df[numirecal_data]=st_scaler.fit_transform(df[numirecal_data])\n",
    "x_test[numirecal_data]=st_scaler.transform(x_test[numirecal_data])"
   ]
  },
  {
   "cell_type": "code",
   "execution_count": 11,
   "metadata": {},
   "outputs": [],
   "source": [
    "#label enconding\n",
    "df_catagorical_data=df.select_dtypes(include=['object']).columns.to_list()\n",
    "#test_catagorical_data=df.select_dtypes(include=['object']).columns.to_list()\n",
    "\n",
    "lb=LabelEncoder()\n",
    "df[df_catagorical_data]=lb.fit_transform(df_catagorical_data)\n",
    "x_test[df_catagorical_data]=lb.transform(df_catagorical_data)\n"
   ]
  },
  {
   "cell_type": "code",
   "execution_count": 12,
   "metadata": {},
   "outputs": [
    {
     "name": "stdout",
     "output_type": "stream",
     "text": [
      "0       False\n",
      "1        True\n",
      "2       False\n",
      "3       False\n",
      "4        True\n",
      "        ...  \n",
      "8688    False\n",
      "8689    False\n",
      "8690     True\n",
      "8691    False\n",
      "8692     True\n",
      "Name: Transported, Length: 8693, dtype: bool\n"
     ]
    }
   ],
   "source": [
    "print(df['Transported'])"
   ]
  },
  {
   "cell_type": "code",
   "execution_count": 13,
   "metadata": {},
   "outputs": [],
   "source": [
    "#new feature\n",
    "df['total_spent']=df['FoodCourt']+df['RoomService']+df['ShoppingMall']+df['Spa']+df['VRDeck']\n",
    "x_test['total_spent']=x_test['FoodCourt']+x_test['RoomService']+x_test['ShoppingMall']+x_test['Spa']+x_test['VRDeck']\n",
    "\n",
    "df['Transported']=df['Transported'].apply(lambda val:1 if val==True else 0)\n",
    "\n",
    "\n",
    "\n",
    "\n",
    "'''#dummies \n",
    "df = pd.get_dummies(df, columns=['HomePlanet','Destination','Cabin_deck','Cabin_side'], prefix=['HomePlanet','Destination','Cabin_deck','Cabin_side'],dtype=int)\n",
    "x_test = pd.get_dummies(x_test, columns=['HomePlanet','Destination','Cabin_deck','Cabin_side'], prefix=['HomePlanet','Destination','Cabin_deck','Cabin_side'],dtype=int)\n",
    "'''\n",
    "\n",
    "\n",
    "#y\n",
    "y_train=df['Transported']\n",
    "\n",
    "\n",
    "#drop columns\n",
    "df=df.drop(['PassengerId','Cabin','Name','Transported'],axis=1)\n",
    "x_test=x_test.drop(['PassengerId','Cabin','Name'],axis=1)\n"
   ]
  },
  {
   "cell_type": "code",
   "execution_count": 14,
   "metadata": {},
   "outputs": [
    {
     "name": "stdout",
     "output_type": "stream",
     "text": [
      "0       0\n",
      "1       1\n",
      "2       0\n",
      "3       0\n",
      "4       1\n",
      "       ..\n",
      "8688    0\n",
      "8689    0\n",
      "8690    1\n",
      "8691    0\n",
      "8692    1\n",
      "Name: Transported, Length: 8693, dtype: int64\n"
     ]
    }
   ],
   "source": [
    "print(y_train)"
   ]
  },
  {
   "cell_type": "code",
   "execution_count": 15,
   "metadata": {},
   "outputs": [
    {
     "name": "stdout",
     "output_type": "stream",
     "text": [
      "0.9134311187805579\n"
     ]
    }
   ],
   "source": [
    "#split the data\n",
    "x_train, x_cv, y_train, y_cv = train_test_split(df, y_train,test_size=0.20,random_state=32)\n",
    "\n",
    "model=XGBClassifier()\n",
    "model.fit(x_train,y_train)\n",
    "\n",
    "pretrain=model.predict(x_train)\n",
    "\n",
    "from sklearn.metrics import accuracy_score\n",
    "acc=accuracy_score(pretrain,y_train)\n",
    "print(acc)"
   ]
  },
  {
   "cell_type": "code",
   "execution_count": 16,
   "metadata": {},
   "outputs": [
    {
     "name": "stdout",
     "output_type": "stream",
     "text": [
      "0.7751581368602645\n"
     ]
    }
   ],
   "source": [
    "pretrain=model.predict(x_cv)\n",
    "\n",
    "from sklearn.metrics import accuracy_score\n",
    "acc=accuracy_score(pretrain,y_cv)\n",
    "print(acc)"
   ]
  },
  {
   "cell_type": "code",
   "execution_count": 17,
   "metadata": {},
   "outputs": [],
   "source": [
    "predict=model.predict(x_test)\n"
   ]
  },
  {
   "cell_type": "code",
   "execution_count": 18,
   "metadata": {},
   "outputs": [
    {
     "data": {
      "text/plain": [
       "\"y_pred=model.predict(x_test)\\n\\nids=list(ids)\\nsubmit=pd.DataFrame({'PassengerId':ids,'Survived':y_pred})\\nsubmit.to_csv('submit.csv',index=False)\\n\""
      ]
     },
     "execution_count": 18,
     "metadata": {},
     "output_type": "execute_result"
    }
   ],
   "source": [
    "'''y_pred=model.predict(x_test)\n",
    "\n",
    "ids=list(ids)\n",
    "submit=pd.DataFrame({'PassengerId':ids,'Survived':y_pred})\n",
    "submit.to_csv('submit.csv',index=False)\n",
    "'''"
   ]
  },
  {
   "cell_type": "code",
   "execution_count": 19,
   "metadata": {},
   "outputs": [
    {
     "name": "stdout",
     "output_type": "stream",
     "text": [
      "0.8697152717860225\n"
     ]
    }
   ],
   "source": [
    "# Initialize the XGBClassifier with parameters\n",
    "model2 = XGBClassifier(\n",
    "    max_depth=4,\n",
    "    subsample=0.6,\n",
    "    colsample_bytree=0.9,\n",
    "    reg_alpha=1,\n",
    "    reg_lambda=2,\n",
    "    learning_rate=0.05,\n",
    "    n_estimators=1000,\n",
    "    gamma=0\n",
    ")\n",
    "model2.fit(x_train,y_train)\n",
    "\n",
    "pretrain=model2.predict(x_train)\n",
    "\n",
    "from sklearn.metrics import accuracy_score\n",
    "acc=accuracy_score(pretrain,y_train)\n",
    "print(acc)"
   ]
  },
  {
   "cell_type": "code",
   "execution_count": null,
   "metadata": {},
   "outputs": [],
   "source": [
    "pretrain=model2.predict(x_cv)\n"
   ]
  },
  {
   "cell_type": "code",
   "execution_count": 20,
   "metadata": {},
   "outputs": [
    {
     "name": "stdout",
     "output_type": "stream",
     "text": [
      "0.780333525014376\n"
     ]
    }
   ],
   "source": [
    "\n",
    "\n",
    "from sklearn.metrics import accuracy_score\n",
    "acc=accuracy_score(pretrain,y_cv)\n",
    "print(acc)"
   ]
  },
  {
   "cell_type": "code",
   "execution_count": 24,
   "metadata": {},
   "outputs": [],
   "source": [
    "y_pred=model2.predict(x_test)\n",
    "   \n",
    "y_pred=y_pred.astype(bool)"
   ]
  },
  {
   "cell_type": "code",
   "execution_count": 26,
   "metadata": {},
   "outputs": [],
   "source": [
    "\n",
    "ids=list(ids)\n",
    "submit=pd.DataFrame({'PassengerId':ids,'Transported':y_pred})\n",
    "submit.to_csv('submit4.csv',index=False)\n"
   ]
  },
  {
   "cell_type": "code",
   "execution_count": 25,
   "metadata": {},
   "outputs": [
    {
     "name": "stdout",
     "output_type": "stream",
     "text": [
      "[ True False False ...  True False False]\n"
     ]
    }
   ],
   "source": [
    "print(y_pred)"
   ]
  }
 ],
 "metadata": {
  "kernelspec": {
   "display_name": "Python 3",
   "language": "python",
   "name": "python3"
  },
  "language_info": {
   "codemirror_mode": {
    "name": "ipython",
    "version": 3
   },
   "file_extension": ".py",
   "mimetype": "text/x-python",
   "name": "python",
   "nbconvert_exporter": "python",
   "pygments_lexer": "ipython3",
   "version": "3.11.4"
  }
 },
 "nbformat": 4,
 "nbformat_minor": 2
}
