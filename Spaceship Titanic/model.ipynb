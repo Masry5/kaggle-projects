{
 "cells": [
  {
   "cell_type": "code",
   "execution_count": 1,
   "metadata": {},
   "outputs": [],
   "source": [
    "import numpy as np\n",
    "import pandas as pd\n",
    "from sklearn.model_selection import train_test_split\n",
    "from sklearn.preprocessing import PolynomialFeatures,StandardScaler,LabelEncoder,OneHotEncoder\n",
    "from sklearn.metrics import mean_squared_error,r2_score\n",
    "from sklearn.linear_model import LogisticRegression\n",
    "import matplotlib.pyplot as plt\n",
    "import os\n",
    "from sklearn.impute import SimpleImputer\n",
    "from xgboost import XGBClassifier"
   ]
  },
  {
   "cell_type": "code",
   "execution_count": 2,
   "metadata": {},
   "outputs": [],
   "source": [
    "df=pd.read_csv('train.csv')\n",
    "x_test=pd.read_csv('test.csv')"
   ]
  },
  {
   "cell_type": "code",
   "execution_count": 3,
   "metadata": {},
   "outputs": [
    {
     "data": {
      "text/plain": [
       "PassengerId       0\n",
       "HomePlanet      201\n",
       "CryoSleep       217\n",
       "Cabin           199\n",
       "Destination     182\n",
       "Age             179\n",
       "VIP             203\n",
       "RoomService     181\n",
       "FoodCourt       183\n",
       "ShoppingMall    208\n",
       "Spa             183\n",
       "VRDeck          188\n",
       "Name            200\n",
       "Transported       0\n",
       "dtype: int64"
      ]
     },
     "execution_count": 3,
     "metadata": {},
     "output_type": "execute_result"
    }
   ],
   "source": [
    "df.isna().sum()"
   ]
  },
  {
   "cell_type": "code",
   "execution_count": 4,
   "metadata": {},
   "outputs": [
    {
     "data": {
      "text/plain": [
       "{'A', 'B', 'C', 'D', 'E', 'F', 'G', 'T', nan}"
      ]
     },
     "execution_count": 4,
     "metadata": {},
     "output_type": "execute_result"
    }
   ],
   "source": [
    "df['Cabin']=df['Cabin'].str.split('/')\n",
    "set(df['Cabin'].str.get(0))"
   ]
  },
  {
   "cell_type": "code",
   "execution_count": 5,
   "metadata": {},
   "outputs": [
    {
     "data": {
      "text/plain": [
       "{'P', 'S', nan}"
      ]
     },
     "execution_count": 5,
     "metadata": {},
     "output_type": "execute_result"
    }
   ],
   "source": [
    "set(df['Cabin'].str.get(2))\n"
   ]
  },
  {
   "cell_type": "code",
   "execution_count": 6,
   "metadata": {},
   "outputs": [],
   "source": [
    "#split Cabin\n",
    "df['Cabin']=df['Cabin'].str.split('/')\n",
    "df['Cabin_deck'] = df['PassengerId'].str.get(0).astype(int)\n",
    "df['Cabin_num']=df['PassengerId'].str.get(1).astype(int)\n",
    "df['Cabin_side']=df['PassengerId'].str.get(2).astype(int)\n",
    "\n",
    "#split cabin test\n",
    "x_test['Cabin']=x_test['Cabin'].str.split('/')\n",
    "x_test['Cabin_deck'] = x_test['PassengerId'].str.get(0).astype(int)\n",
    "x_test['Cabin_num']=x_test['PassengerId'].str.get(1).astype(int)\n",
    "x_test['Cabin_side']=x_test['PassengerId'].str.get(2).astype(int)"
   ]
  },
  {
   "cell_type": "code",
   "execution_count": 7,
   "metadata": {},
   "outputs": [],
   "source": [
    "#split id\n",
    "df['PassengerId']=df['PassengerId'].str.split('_')\n",
    "df['group'] = df['PassengerId'].str.get(0).astype(int)\n",
    "df['passenger_num']=df['PassengerId'].str.get(1).astype(int)\n",
    "\n",
    "#split id test\n",
    "x_test['PassengerId']=x_test['PassengerId'].str.split('_')\n",
    "x_test['group'] = x_test['PassengerId'].str.get(0).astype(int)\n",
    "x_test['passenger_num']=x_test['PassengerId'].str.get(1).astype(int)"
   ]
  },
  {
   "cell_type": "code",
   "execution_count": 8,
   "metadata": {},
   "outputs": [],
   "source": [
    "#fill missing data\n",
    "imputer = SimpleImputer(strategy='most_frequent')\n",
    "\n",
    "# Fit the imputer on your data (calculates the mean for imputation)\n",
    "imputer.fit(df[['HomePlanet','Destination','Cabin_deck','Cabin_side']])\n",
    "df[['HomePlanet','Destination','Cabin_deck','Cabin_side']] = imputer.transform(df[['HomePlanet','Destination','Cabin_deck','Cabin_side']])\n",
    "x_test[['HomePlanet','Destination','Cabin_deck','Cabin_side']] = imputer.transform(x_test[['HomePlanet','Destination','Cabin_deck','Cabin_side']])\n",
    "\n"
   ]
  },
  {
   "cell_type": "code",
   "execution_count": 9,
   "metadata": {},
   "outputs": [],
   "source": [
    "#new feature\n",
    "df['total_spent']=df['FoodCourt']+df['RoomService']+df['ShoppingMall']+df['Spa']+df['VRDeck']\n",
    "\n",
    "#turn to 0,1\n",
    "df['VIP']=df['VIP'].apply(lambda val:1 if val==True else 0)\n",
    "x_test['VIP']=x_test['VIP'].apply(lambda val:1 if val==True else 0)\n",
    "\n",
    "df['CryoSleep']=df['CryoSleep'].apply(lambda val:1 if val==True else 0)\n",
    "x_test['CryoSleep']=x_test['CryoSleep'].apply(lambda val:1 if val==True else 0)\n",
    "\n",
    "df['Transported']=df['Transported'].apply(lambda val:1 if val==True else 0)\n",
    "\n",
    "#fill the other missing data with 0\n",
    "df['Age'] = df['Age'].fillna(df['Age'].mean())\n",
    "x_test['Age'] = x_test['Age'].fillna(df['Age'].mean())\n",
    "\n",
    "df=df.fillna(0)\n",
    "x_test=x_test.fillna(0)\n",
    "\n",
    "\n",
    "#dummies \n",
    "df = pd.get_dummies(df, columns=['HomePlanet','Destination','Cabin_deck','Cabin_side'], prefix=['HomePlanet','Destination','Cabin_deck','Cabin_side'],dtype=int)\n",
    "x_test = pd.get_dummies(x_test, columns=['HomePlanet','Destination','Cabin_deck','Cabin_side'], prefix=['HomePlanet','Destination','Cabin_deck','Cabin_side'],dtype=int)\n",
    "\n",
    "#y\n",
    "y_train=df['Transported']\n",
    "\n",
    "\n",
    "#drop columns\n",
    "df=df.drop(['PassengerId','Cabin','Name','Transported'],axis=1)\n",
    "x_test=x_test.drop(['PassengerId','Cabin','Name'],axis=1)\n"
   ]
  },
  {
   "cell_type": "code",
   "execution_count": 10,
   "metadata": {},
   "outputs": [
    {
     "data": {
      "text/html": [
       "<div>\n",
       "<style scoped>\n",
       "    .dataframe tbody tr th:only-of-type {\n",
       "        vertical-align: middle;\n",
       "    }\n",
       "\n",
       "    .dataframe tbody tr th {\n",
       "        vertical-align: top;\n",
       "    }\n",
       "\n",
       "    .dataframe thead th {\n",
       "        text-align: right;\n",
       "    }\n",
       "</style>\n",
       "<table border=\"1\" class=\"dataframe\">\n",
       "  <thead>\n",
       "    <tr style=\"text-align: right;\">\n",
       "      <th></th>\n",
       "      <th>CryoSleep</th>\n",
       "      <th>Age</th>\n",
       "      <th>VIP</th>\n",
       "      <th>RoomService</th>\n",
       "      <th>FoodCourt</th>\n",
       "      <th>ShoppingMall</th>\n",
       "      <th>Spa</th>\n",
       "      <th>VRDeck</th>\n",
       "      <th>Cabin_num</th>\n",
       "      <th>group</th>\n",
       "      <th>...</th>\n",
       "      <th>Cabin_side_0</th>\n",
       "      <th>Cabin_side_1</th>\n",
       "      <th>Cabin_side_2</th>\n",
       "      <th>Cabin_side_3</th>\n",
       "      <th>Cabin_side_4</th>\n",
       "      <th>Cabin_side_5</th>\n",
       "      <th>Cabin_side_6</th>\n",
       "      <th>Cabin_side_7</th>\n",
       "      <th>Cabin_side_8</th>\n",
       "      <th>Cabin_side_9</th>\n",
       "    </tr>\n",
       "  </thead>\n",
       "  <tbody>\n",
       "    <tr>\n",
       "      <th>0</th>\n",
       "      <td>0</td>\n",
       "      <td>39.0</td>\n",
       "      <td>0</td>\n",
       "      <td>0.0</td>\n",
       "      <td>0.0</td>\n",
       "      <td>0.0</td>\n",
       "      <td>0.0</td>\n",
       "      <td>0.0</td>\n",
       "      <td>0</td>\n",
       "      <td>1</td>\n",
       "      <td>...</td>\n",
       "      <td>1</td>\n",
       "      <td>0</td>\n",
       "      <td>0</td>\n",
       "      <td>0</td>\n",
       "      <td>0</td>\n",
       "      <td>0</td>\n",
       "      <td>0</td>\n",
       "      <td>0</td>\n",
       "      <td>0</td>\n",
       "      <td>0</td>\n",
       "    </tr>\n",
       "    <tr>\n",
       "      <th>1</th>\n",
       "      <td>0</td>\n",
       "      <td>24.0</td>\n",
       "      <td>0</td>\n",
       "      <td>109.0</td>\n",
       "      <td>9.0</td>\n",
       "      <td>25.0</td>\n",
       "      <td>549.0</td>\n",
       "      <td>44.0</td>\n",
       "      <td>0</td>\n",
       "      <td>2</td>\n",
       "      <td>...</td>\n",
       "      <td>1</td>\n",
       "      <td>0</td>\n",
       "      <td>0</td>\n",
       "      <td>0</td>\n",
       "      <td>0</td>\n",
       "      <td>0</td>\n",
       "      <td>0</td>\n",
       "      <td>0</td>\n",
       "      <td>0</td>\n",
       "      <td>0</td>\n",
       "    </tr>\n",
       "    <tr>\n",
       "      <th>2</th>\n",
       "      <td>0</td>\n",
       "      <td>58.0</td>\n",
       "      <td>1</td>\n",
       "      <td>43.0</td>\n",
       "      <td>3576.0</td>\n",
       "      <td>0.0</td>\n",
       "      <td>6715.0</td>\n",
       "      <td>49.0</td>\n",
       "      <td>0</td>\n",
       "      <td>3</td>\n",
       "      <td>...</td>\n",
       "      <td>1</td>\n",
       "      <td>0</td>\n",
       "      <td>0</td>\n",
       "      <td>0</td>\n",
       "      <td>0</td>\n",
       "      <td>0</td>\n",
       "      <td>0</td>\n",
       "      <td>0</td>\n",
       "      <td>0</td>\n",
       "      <td>0</td>\n",
       "    </tr>\n",
       "    <tr>\n",
       "      <th>3</th>\n",
       "      <td>0</td>\n",
       "      <td>33.0</td>\n",
       "      <td>0</td>\n",
       "      <td>0.0</td>\n",
       "      <td>1283.0</td>\n",
       "      <td>371.0</td>\n",
       "      <td>3329.0</td>\n",
       "      <td>193.0</td>\n",
       "      <td>0</td>\n",
       "      <td>3</td>\n",
       "      <td>...</td>\n",
       "      <td>1</td>\n",
       "      <td>0</td>\n",
       "      <td>0</td>\n",
       "      <td>0</td>\n",
       "      <td>0</td>\n",
       "      <td>0</td>\n",
       "      <td>0</td>\n",
       "      <td>0</td>\n",
       "      <td>0</td>\n",
       "      <td>0</td>\n",
       "    </tr>\n",
       "    <tr>\n",
       "      <th>4</th>\n",
       "      <td>0</td>\n",
       "      <td>16.0</td>\n",
       "      <td>0</td>\n",
       "      <td>303.0</td>\n",
       "      <td>70.0</td>\n",
       "      <td>151.0</td>\n",
       "      <td>565.0</td>\n",
       "      <td>2.0</td>\n",
       "      <td>0</td>\n",
       "      <td>4</td>\n",
       "      <td>...</td>\n",
       "      <td>1</td>\n",
       "      <td>0</td>\n",
       "      <td>0</td>\n",
       "      <td>0</td>\n",
       "      <td>0</td>\n",
       "      <td>0</td>\n",
       "      <td>0</td>\n",
       "      <td>0</td>\n",
       "      <td>0</td>\n",
       "      <td>0</td>\n",
       "    </tr>\n",
       "  </tbody>\n",
       "</table>\n",
       "<p>5 rows × 38 columns</p>\n",
       "</div>"
      ],
      "text/plain": [
       "   CryoSleep   Age  VIP  RoomService  FoodCourt  ShoppingMall     Spa  VRDeck  \\\n",
       "0          0  39.0    0          0.0        0.0           0.0     0.0     0.0   \n",
       "1          0  24.0    0        109.0        9.0          25.0   549.0    44.0   \n",
       "2          0  58.0    1         43.0     3576.0           0.0  6715.0    49.0   \n",
       "3          0  33.0    0          0.0     1283.0         371.0  3329.0   193.0   \n",
       "4          0  16.0    0        303.0       70.0         151.0   565.0     2.0   \n",
       "\n",
       "   Cabin_num  group  ...  Cabin_side_0  Cabin_side_1  Cabin_side_2  \\\n",
       "0          0      1  ...             1             0             0   \n",
       "1          0      2  ...             1             0             0   \n",
       "2          0      3  ...             1             0             0   \n",
       "3          0      3  ...             1             0             0   \n",
       "4          0      4  ...             1             0             0   \n",
       "\n",
       "   Cabin_side_3  Cabin_side_4  Cabin_side_5  Cabin_side_6  Cabin_side_7  \\\n",
       "0             0             0             0             0             0   \n",
       "1             0             0             0             0             0   \n",
       "2             0             0             0             0             0   \n",
       "3             0             0             0             0             0   \n",
       "4             0             0             0             0             0   \n",
       "\n",
       "   Cabin_side_8  Cabin_side_9  \n",
       "0             0             0  \n",
       "1             0             0  \n",
       "2             0             0  \n",
       "3             0             0  \n",
       "4             0             0  \n",
       "\n",
       "[5 rows x 38 columns]"
      ]
     },
     "execution_count": 10,
     "metadata": {},
     "output_type": "execute_result"
    }
   ],
   "source": [
    "df.head(5)"
   ]
  },
  {
   "cell_type": "code",
   "execution_count": 11,
   "metadata": {},
   "outputs": [
    {
     "name": "stdout",
     "output_type": "stream",
     "text": [
      "0.9314063848144952\n"
     ]
    }
   ],
   "source": [
    "#split the data\n",
    "x_train, x_cv, y_train, y_cv = train_test_split(df, y_train,test_size=0.20,random_state=32)\n",
    "\n",
    "model=XGBClassifier()\n",
    "model.fit(x_train,y_train)\n",
    "\n",
    "pretrain=model.predict(x_train)\n",
    "\n",
    "from sklearn.metrics import accuracy_score\n",
    "acc=accuracy_score(pretrain,y_train)\n",
    "print(acc)"
   ]
  },
  {
   "cell_type": "code",
   "execution_count": 12,
   "metadata": {},
   "outputs": [
    {
     "name": "stdout",
     "output_type": "stream",
     "text": [
      "0.7837837837837838\n"
     ]
    }
   ],
   "source": [
    "pretrain=model.predict(x_cv)\n",
    "\n",
    "from sklearn.metrics import accuracy_score\n",
    "acc=accuracy_score(pretrain,y_cv)\n",
    "print(acc)"
   ]
  },
  {
   "cell_type": "code",
   "execution_count": 13,
   "metadata": {},
   "outputs": [
    {
     "name": "stdout",
     "output_type": "stream",
     "text": [
      "0.9620362381363244\n"
     ]
    }
   ],
   "source": [
    "# Initialize the XGBClassifier with parameters\n",
    "model2 = XGBClassifier(\n",
    "    max_depth=5,\n",
    "    subsample=0.5,\n",
    "    colsample_bytree=0.8,\n",
    "    reg_alpha=0,\n",
    "    reg_lambda=1,\n",
    "    learning_rate=0.1,\n",
    "    n_estimators=1000,\n",
    "    gamma=1\n",
    ")\n",
    "model2.fit(x_train,y_train)\n",
    "\n",
    "pretrain=model2.predict(x_train)\n",
    "\n",
    "from sklearn.metrics import accuracy_score\n",
    "acc=accuracy_score(pretrain,y_train)\n",
    "print(acc)"
   ]
  },
  {
   "cell_type": "code",
   "execution_count": 14,
   "metadata": {},
   "outputs": [
    {
     "name": "stdout",
     "output_type": "stream",
     "text": [
      "0.7768832662449684\n"
     ]
    }
   ],
   "source": [
    "pretrain=model2.predict(x_cv)\n",
    "\n",
    "from sklearn.metrics import accuracy_score\n",
    "acc=accuracy_score(pretrain,y_cv)\n",
    "print(acc)"
   ]
  },
  {
   "cell_type": "code",
   "execution_count": 15,
   "metadata": {},
   "outputs": [
    {
     "data": {
      "text/plain": [
       "0           0.0\n",
       "1         736.0\n",
       "2       10383.0\n",
       "3        5176.0\n",
       "4        1091.0\n",
       "         ...   \n",
       "8688     8536.0\n",
       "8689        0.0\n",
       "8690     1873.0\n",
       "8691     4637.0\n",
       "8692     4826.0\n",
       "Name: total_spent, Length: 8693, dtype: float64"
      ]
     },
     "execution_count": 15,
     "metadata": {},
     "output_type": "execute_result"
    }
   ],
   "source": [
    "df['total_spent']"
   ]
  },
  {
   "cell_type": "code",
   "execution_count": 16,
   "metadata": {},
   "outputs": [
    {
     "name": "stdout",
     "output_type": "stream",
     "text": [
      "{0, 1}\n"
     ]
    }
   ],
   "source": [
    "print(set(y_train))"
   ]
  },
  {
   "cell_type": "code",
   "execution_count": 18,
   "metadata": {},
   "outputs": [
    {
     "name": "stdout",
     "output_type": "stream",
     "text": [
      "{0, 1}\n"
     ]
    }
   ],
   "source": [
    "print(set(df['CryoSleep']))\n"
   ]
  }
 ],
 "metadata": {
  "kernelspec": {
   "display_name": "Python 3",
   "language": "python",
   "name": "python3"
  },
  "language_info": {
   "codemirror_mode": {
    "name": "ipython",
    "version": 3
   },
   "file_extension": ".py",
   "mimetype": "text/x-python",
   "name": "python",
   "nbconvert_exporter": "python",
   "pygments_lexer": "ipython3",
   "version": "3.11.4"
  }
 },
 "nbformat": 4,
 "nbformat_minor": 2
}
